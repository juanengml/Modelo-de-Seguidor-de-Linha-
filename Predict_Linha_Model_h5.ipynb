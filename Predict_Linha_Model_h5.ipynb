{
  "nbformat": 4,
  "nbformat_minor": 0,
  "metadata": {
    "colab": {
      "name": "Predict Linha Model h5.ipynb",
      "provenance": []
    },
    "kernelspec": {
      "name": "python3",
      "display_name": "Python 3"
    }
  },
  "cells": [
    {
      "cell_type": "code",
      "metadata": {
        "id": "YWbeG_cjU9AD",
        "colab_type": "code",
        "colab": {}
      },
      "source": [
        "from keras.models import load_model\n",
        "from keras.models import model_from_json"
      ],
      "execution_count": 0,
      "outputs": []
    },
    {
      "cell_type": "code",
      "metadata": {
        "id": "LT-O7Tj9VQWP",
        "colab_type": "code",
        "colab": {
          "base_uri": "https://localhost:8080/",
          "height": 36
        },
        "outputId": "4a36ca1d-b9e2-4a76-b0e0-0c2dd09b1302"
      },
      "source": [
        "# load json and create model\n",
        "json_file = open('model.json', 'r')\n",
        "loaded_model_json = json_file.read()\n",
        "json_file.close()\n",
        "model = model_from_json(loaded_model_json)\n",
        "# load weights into new model\n",
        "model.load_weights(\"model.h5\")\n",
        "print(\"Loaded model from disk\")"
      ],
      "execution_count": 17,
      "outputs": [
        {
          "output_type": "stream",
          "text": [
            "Loaded model from disk\n"
          ],
          "name": "stdout"
        }
      ]
    },
    {
      "cell_type": "code",
      "metadata": {
        "id": "_CMz4OlvVUFP",
        "colab_type": "code",
        "colab": {}
      },
      "source": [
        "from os import popen"
      ],
      "execution_count": 0,
      "outputs": []
    },
    {
      "cell_type": "code",
      "metadata": {
        "id": "tE7NCGVpWDI7",
        "colab_type": "code",
        "colab": {
          "base_uri": "https://localhost:8080/",
          "height": 223
        },
        "outputId": "00989363-971c-4ba8-a445-fd83d5a1e98c"
      },
      "source": [
        "for p in popen(\"ls *.png\").read().split(\"\\n\"):\n",
        "  print(p)"
      ],
      "execution_count": 13,
      "outputs": [
        {
          "output_type": "stream",
          "text": [
            "image1 - Copia.png\n",
            "image1.png\n",
            "image2 - Copia.png\n",
            "image2.png\n",
            "image3 - Copia.png\n",
            "image3.png\n",
            "image4 - Copia.png\n",
            "image4.png\n",
            "image5 - Copia.png\n",
            "image5.png\n",
            "\n"
          ],
          "name": "stdout"
        }
      ]
    },
    {
      "cell_type": "code",
      "metadata": {
        "id": "Z32P56RbWH89",
        "colab_type": "code",
        "colab": {}
      },
      "source": [
        "\n",
        "import numpy as np\n",
        "from keras.preprocessing import image\n"
      ],
      "execution_count": 0,
      "outputs": []
    },
    {
      "cell_type": "code",
      "metadata": {
        "id": "H0O4A1TGWX5K",
        "colab_type": "code",
        "colab": {
          "base_uri": "https://localhost:8080/",
          "height": 167
        },
        "outputId": "b12773e4-3797-4efb-8355-3ff9b3cd5158"
      },
      "source": [
        "dados = popen(\"ls *.png\").read().split(\"\\n\")\n",
        "\n",
        "for p in range(8):\n",
        "  test_ibage = image.load_img(dados[p], target_size = (64, 64))\n",
        "  test_ibage = image.img_to_array(test_ibage)\n",
        "  test_ibage = np.expand_dims(test_ibage, axis = 0)\n",
        "  result = model.predict(test_ibage)\n",
        "  print(p,int(result[0][0]),dados[p])"
      ],
      "execution_count": 19,
      "outputs": [
        {
          "output_type": "stream",
          "text": [
            "0 0 image1 - Copia.png\n",
            "1 0 image1.png\n",
            "2 0 image2 - Copia.png\n",
            "3 0 image2.png\n",
            "4 0 image3 - Copia.png\n",
            "5 0 image3.png\n",
            "6 0 image4 - Copia.png\n",
            "7 0 image4.png\n"
          ],
          "name": "stdout"
        }
      ]
    },
    {
      "cell_type": "code",
      "metadata": {
        "id": "2Flor1LBWhxr",
        "colab_type": "code",
        "colab": {}
      },
      "source": [
        ""
      ],
      "execution_count": 0,
      "outputs": []
    }
  ]
}